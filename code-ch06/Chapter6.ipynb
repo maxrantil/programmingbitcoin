{
 "cells": [
  {
   "cell_type": "code",
   "execution_count": 1,
   "metadata": {},
   "outputs": [],
   "source": [
    "############## PLEASE RUN THIS CELL FIRST! ###################\n",
    "\n",
    "# import everything and define a test runner function\n",
    "from importlib import reload\n",
    "from helper import run\n",
    "import op\n",
    "import script"
   ]
  },
  {
   "cell_type": "markdown",
   "metadata": {},
   "source": [
    "### Exercise 1\n",
    "\n",
    "Write the `op_hash160` function.\n",
    "\n",
    "#### Make [this test](/edit/code-ch06/op.py) pass: `op.py:OpTest:test_op_hash160`"
   ]
  },
  {
   "cell_type": "code",
   "execution_count": 2,
   "metadata": {},
   "outputs": [
    {
     "name": "stderr",
     "output_type": "stream",
     "text": [
      ".\n",
      "----------------------------------------------------------------------\n",
      "Ran 1 test in 0.002s\n",
      "\n",
      "OK\n"
     ]
    }
   ],
   "source": [
    "# Exercise 1\n",
    "\n",
    "reload(op)\n",
    "run(op.OpTest(\"test_op_hash160\"))"
   ]
  },
  {
   "cell_type": "code",
   "execution_count": 11,
   "metadata": {},
   "outputs": [
    {
     "ename": "NotImplementedError",
     "evalue": "",
     "output_type": "error",
     "traceback": [
      "\u001b[0;31m---------------------------------------------------------------------------\u001b[0m",
      "\u001b[0;31mNotImplementedError\u001b[0m                       Traceback (most recent call last)",
      "Cell \u001b[0;32mIn[11], line 8\u001b[0m\n\u001b[1;32m      6\u001b[0m script_sig \u001b[38;5;241m=\u001b[39m Script([sig])\n\u001b[1;32m      7\u001b[0m combined_script \u001b[38;5;241m=\u001b[39m script_sig \u001b[38;5;241m+\u001b[39m script_pubkey\n\u001b[0;32m----> 8\u001b[0m \u001b[38;5;28mprint\u001b[39m(\u001b[43mcombined_script\u001b[49m\u001b[38;5;241;43m.\u001b[39;49m\u001b[43mevaluate\u001b[49m\u001b[43m(\u001b[49m\u001b[43mz\u001b[49m\u001b[43m)\u001b[49m)\n",
      "File \u001b[0;32m~/workspace/programmingbitcoin/code-ch06/script.py:123\u001b[0m, in \u001b[0;36mScript.evaluate\u001b[0;34m(self, z)\u001b[0m\n\u001b[1;32m    121\u001b[0m         \u001b[38;5;28;01mreturn\u001b[39;00m \u001b[38;5;28;01mFalse\u001b[39;00m\n\u001b[1;32m    122\u001b[0m \u001b[38;5;28;01melif\u001b[39;00m cmd \u001b[38;5;129;01min\u001b[39;00m (\u001b[38;5;241m172\u001b[39m, \u001b[38;5;241m173\u001b[39m, \u001b[38;5;241m174\u001b[39m, \u001b[38;5;241m175\u001b[39m):  \u001b[38;5;66;03m# <6>\u001b[39;00m\n\u001b[0;32m--> 123\u001b[0m     \u001b[38;5;28;01mif\u001b[39;00m \u001b[38;5;129;01mnot\u001b[39;00m \u001b[43moperation\u001b[49m\u001b[43m(\u001b[49m\u001b[43mstack\u001b[49m\u001b[43m,\u001b[49m\u001b[43m \u001b[49m\u001b[43mz\u001b[49m\u001b[43m)\u001b[49m:\n\u001b[1;32m    124\u001b[0m         LOGGER\u001b[38;5;241m.\u001b[39minfo(\u001b[38;5;124m'\u001b[39m\u001b[38;5;124mbad op: \u001b[39m\u001b[38;5;132;01m{}\u001b[39;00m\u001b[38;5;124m'\u001b[39m\u001b[38;5;241m.\u001b[39mformat(OP_CODE_NAMES[cmd]))\n\u001b[1;32m    125\u001b[0m         \u001b[38;5;28;01mreturn\u001b[39;00m \u001b[38;5;28;01mFalse\u001b[39;00m\n",
      "File \u001b[0;32m~/workspace/programmingbitcoin/code-ch06/op.py:674\u001b[0m, in \u001b[0;36mop_checksig\u001b[0;34m(stack, z)\u001b[0m\n\u001b[1;32m    666\u001b[0m \u001b[38;5;28;01mdef\u001b[39;00m \u001b[38;5;21mop_checksig\u001b[39m(stack, z):\n\u001b[1;32m    667\u001b[0m     \u001b[38;5;66;03m# check that there are at least 2 elements on the stack\u001b[39;00m\n\u001b[1;32m    668\u001b[0m     \u001b[38;5;66;03m# the top element of the stack is the SEC pubkey\u001b[39;00m\n\u001b[0;32m   (...)\u001b[0m\n\u001b[1;32m    672\u001b[0m     \u001b[38;5;66;03m# verify the signature using S256Point.verify()\u001b[39;00m\n\u001b[1;32m    673\u001b[0m     \u001b[38;5;66;03m# push an encoded 1 or 0 depending on whether the signature verified\u001b[39;00m\n\u001b[0;32m--> 674\u001b[0m     \u001b[38;5;28;01mraise\u001b[39;00m \u001b[38;5;167;01mNotImplementedError\u001b[39;00m\n",
      "\u001b[0;31mNotImplementedError\u001b[0m: "
     ]
    }
   ],
   "source": [
    "from script import Script\n",
    "z = 0x7c076ff316692a3d7eb3c3bb0f8b1488cf72e1afcd929e29307032997a838a3d\n",
    "sec = bytes.fromhex('04887387e452b8eacc4acfde10d9aaf7f6d9a0f975aabb10d006e4da568744d06c61de6d95231cd89026e286df3b6ae4a894a3378e393e93a0f45b666329a0ae34')\n",
    "sig = bytes.fromhex('3045022000eff69ef2b1bd93a66ed5219add4fb51e11a840f404876325a1e8ffe0529a2c022100c7207fee197d27c618aea621406f6bf5ef6fca38681d82b2f06fddbdce6feab601')\n",
    "script_pubkey = Script([sec, 0xac])\n",
    "script_sig = Script([sig])\n",
    "combined_script = script_sig + script_pubkey\n",
    "print(combined_script.evaluate(z))"
   ]
  },
  {
   "cell_type": "markdown",
   "metadata": {},
   "source": [
    "### Exercise 2\n",
    "\n",
    "Write the `op_checksig` function in `op.py`\n",
    "\n",
    "#### Make [this test](/edit/code-ch06/op.py) pass: `op.py:OpTest:test_op_checksig`"
   ]
  },
  {
   "cell_type": "code",
   "execution_count": 10,
   "metadata": {
    "scrolled": false
   },
   "outputs": [
    {
     "name": "stderr",
     "output_type": "stream",
     "text": [
      ".\n",
      "----------------------------------------------------------------------\n",
      "Ran 1 test in 0.124s\n",
      "\n",
      "OK\n"
     ]
    }
   ],
   "source": [
    "# Exercise 2\n",
    "\n",
    "reload(op)\n",
    "run(op.OpTest(\"test_op_checksig\"))"
   ]
  },
  {
   "cell_type": "markdown",
   "metadata": {},
   "source": [
    "### Exercise 3\n",
    "\n",
    "Create a ScriptSig that can unlock this ScriptPubKey. Note `OP_MUL` multiplies the top two elements of the stack.\n",
    "\n",
    "`767695935687`\n",
    "\n",
    "* `56 = OP_6`\n",
    "* `76 = OP_DUP`\n",
    "* `87 = OP_EQUAL`\n",
    "* `93 = OP_ADD`\n",
    "* `95 = OP_MUL`"
   ]
  },
  {
   "cell_type": "code",
   "execution_count": null,
   "metadata": {},
   "outputs": [],
   "source": [
    "# Exercise 3\n",
    "\n",
    "from script import Script\n",
    "\n",
    "script_pubkey = Script([0x76, 0x76, 0x95, 0x93, 0x56, 0x87])\n",
    "script_sig = Script([])  # FILL THIS IN\n",
    "combined_script = script_sig + script_pubkey\n",
    "print(combined_script.evaluate(0))"
   ]
  },
  {
   "cell_type": "markdown",
   "metadata": {},
   "source": [
    "### Exercise 4\n",
    "\n",
    "Figure out what this Script is doing:\n",
    "\n",
    "`6e879169a77ca787`\n",
    "\n",
    "* `69 = OP_VERIFY`\n",
    "* `6e = OP_2DUP`\n",
    "* `7c = OP_SWAP`\n",
    "* `87 = OP_EQUAL`\n",
    "* `91 = OP_NOT`\n",
    "* `a7 = OP_SHA1`\n",
    "\n",
    "Use the `Script.parse` method and look up what various opcodes do at https://en.bitcoin.it/wiki/Script"
   ]
  },
  {
   "cell_type": "code",
   "execution_count": null,
   "metadata": {},
   "outputs": [],
   "source": [
    "# Exercise 4\n",
    "\n",
    "from script import Script\n",
    "\n",
    "script_pubkey = Script([0x6e, 0x87, 0x91, 0x69, 0xa7, 0x7c, 0xa7, 0x87])\n",
    "script_sig = Script([])  # FILL THIS IN\n",
    "combined_script = script_sig + script_pubkey\n",
    "print(combined_script.evaluate(0))"
   ]
  }
 ],
 "metadata": {
  "kernelspec": {
   "display_name": "Python 3 (ipykernel)",
   "language": "python",
   "name": "python3"
  },
  "language_info": {
   "codemirror_mode": {
    "name": "ipython",
    "version": 3
   },
   "file_extension": ".py",
   "mimetype": "text/x-python",
   "name": "python",
   "nbconvert_exporter": "python",
   "pygments_lexer": "ipython3",
   "version": "3.11.3"
  }
 },
 "nbformat": 4,
 "nbformat_minor": 2
}
